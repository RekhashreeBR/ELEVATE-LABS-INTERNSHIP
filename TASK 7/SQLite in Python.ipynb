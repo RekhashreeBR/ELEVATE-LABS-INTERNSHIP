{
 "cells": [
  {
   "cell_type": "code",
   "execution_count": 1,
   "id": "dbfa11a3-69e6-4770-9c2a-e475ce85ca31",
   "metadata": {},
   "outputs": [],
   "source": [
    "import pandas as pd\n",
    "import sqlite3 \n",
    "import matplotlib.pyplot as plt"
   ]
  },
  {
   "cell_type": "code",
   "execution_count": 2,
   "id": "70154288-e38e-4d7c-8e34-0a4bb6600d7b",
   "metadata": {},
   "outputs": [],
   "source": [
    "con = sqlite3.connect (\"sales_database.db\")\n",
    "cursor =con.cursor()"
   ]
  },
  {
   "cell_type": "code",
   "execution_count": 3,
   "id": "94215027-869d-4c71-8476-65e68e4aba4e",
   "metadata": {},
   "outputs": [
    {
     "data": {
      "text/plain": [
       "<sqlite3.Cursor at 0x233ed656640>"
      ]
     },
     "execution_count": 3,
     "metadata": {},
     "output_type": "execute_result"
    }
   ],
   "source": [
    "cursor.execute(\"drop table if exists sales\")"
   ]
  },
  {
   "cell_type": "code",
   "execution_count": 4,
   "id": "f624a567-c3c1-4cc3-adf3-04c3b64908d5",
   "metadata": {},
   "outputs": [
    {
     "data": {
      "text/plain": [
       "<sqlite3.Cursor at 0x233ed656640>"
      ]
     },
     "execution_count": 4,
     "metadata": {},
     "output_type": "execute_result"
    }
   ],
   "source": [
    "cursor.execute(\"\"\" create table sales(\n",
    "                            sales_ID int primary key ,\n",
    "                            product varchar(50),\n",
    "                            location varchar(50),\n",
    "                            selling_price int ,\n",
    "                            profit int ) \"\"\")\n",
    "                                        "
   ]
  },
  {
   "cell_type": "code",
   "execution_count": 5,
   "id": "415100ec-7ec4-4d9e-bba8-9a161aff24d5",
   "metadata": {},
   "outputs": [
    {
     "data": {
      "text/plain": [
       "<sqlite3.Cursor at 0x233ed656640>"
      ]
     },
     "execution_count": 5,
     "metadata": {},
     "output_type": "execute_result"
    }
   ],
   "source": [
    "cursor.execute(\"\"\"\n",
    "        insert into sales(sales_ID , product ,location ,selling_price ,profit)\n",
    "                    values \n",
    "                        (10,\"furniture\",\"bengaluru\",5000,500),\n",
    "    (11,\"electronics\",\"mysore\",15000,400),\n",
    "    (12,\"decor_material\",\"bengaluru\", 3500,200),\n",
    "    (13,\"furniture\",\"mumbai\",12000,4000),\n",
    "    (14,\"electronics\",\"mumbai\",10000,4000),\n",
    "    (15,\"decor_material\",\"mysore\", 3000,350) \"\"\")"
   ]
  },
  {
   "cell_type": "code",
   "execution_count": 6,
   "id": "aea83d7c-3eeb-4376-91ea-7f41337c0de9",
   "metadata": {},
   "outputs": [],
   "source": [
    "con.commit()"
   ]
  },
  {
   "cell_type": "markdown",
   "id": "cdc7c3cf-36a1-49bd-bba2-02c71a21d186",
   "metadata": {},
   "source": [
    "### Getting data"
   ]
  },
  {
   "cell_type": "code",
   "execution_count": 7,
   "id": "7c584ab6-1526-4b40-ba31-8e619586634e",
   "metadata": {},
   "outputs": [
    {
     "name": "stdout",
     "output_type": "stream",
     "text": [
      "   sales_ID         product   location  selling_price  profit\n",
      "0        10       furniture  bengaluru           5000     500\n",
      "1        11     electronics     mysore          15000     400\n",
      "2        12  decor_material  bengaluru           3500     200\n",
      "3        13       furniture     mumbai          12000    4000\n",
      "4        14     electronics     mumbai          10000    4000\n",
      "5        15  decor_material     mysore           3000     350\n"
     ]
    }
   ],
   "source": [
    "query= \"select * from sales ;\"\n",
    "sales_data = pd.read_sql_query(query , con)\n",
    "print(sales_data)"
   ]
  },
  {
   "cell_type": "markdown",
   "id": "f26ab27e-4e2f-4fa1-8fcf-724a6062da4f",
   "metadata": {},
   "source": [
    "### Understanding Data"
   ]
  },
  {
   "cell_type": "code",
   "execution_count": 8,
   "id": "f1cb7af1-9106-46df-88ba-51570f7a41bf",
   "metadata": {},
   "outputs": [
    {
     "name": "stdout",
     "output_type": "stream",
     "text": [
      "<class 'pandas.core.frame.DataFrame'>\n",
      "RangeIndex: 6 entries, 0 to 5\n",
      "Data columns (total 5 columns):\n",
      " #   Column         Non-Null Count  Dtype \n",
      "---  ------         --------------  ----- \n",
      " 0   sales_ID       6 non-null      int64 \n",
      " 1   product        6 non-null      object\n",
      " 2   location       6 non-null      object\n",
      " 3   selling_price  6 non-null      int64 \n",
      " 4   profit         6 non-null      int64 \n",
      "dtypes: int64(3), object(2)\n",
      "memory usage: 372.0+ bytes\n"
     ]
    }
   ],
   "source": [
    "sales_data.info()"
   ]
  },
  {
   "cell_type": "code",
   "execution_count": 9,
   "id": "ae5db6f7-2b32-45da-98b5-b574798da8eb",
   "metadata": {},
   "outputs": [
    {
     "data": {
      "text/html": [
       "<div>\n",
       "<style scoped>\n",
       "    .dataframe tbody tr th:only-of-type {\n",
       "        vertical-align: middle;\n",
       "    }\n",
       "\n",
       "    .dataframe tbody tr th {\n",
       "        vertical-align: top;\n",
       "    }\n",
       "\n",
       "    .dataframe thead th {\n",
       "        text-align: right;\n",
       "    }\n",
       "</style>\n",
       "<table border=\"1\" class=\"dataframe\">\n",
       "  <thead>\n",
       "    <tr style=\"text-align: right;\">\n",
       "      <th></th>\n",
       "      <th>sales_ID</th>\n",
       "      <th>selling_price</th>\n",
       "      <th>profit</th>\n",
       "    </tr>\n",
       "  </thead>\n",
       "  <tbody>\n",
       "    <tr>\n",
       "      <th>count</th>\n",
       "      <td>6.000000</td>\n",
       "      <td>6.000000</td>\n",
       "      <td>6.000000</td>\n",
       "    </tr>\n",
       "    <tr>\n",
       "      <th>mean</th>\n",
       "      <td>12.500000</td>\n",
       "      <td>8083.333333</td>\n",
       "      <td>1575.000000</td>\n",
       "    </tr>\n",
       "    <tr>\n",
       "      <th>std</th>\n",
       "      <td>1.870829</td>\n",
       "      <td>4964.037335</td>\n",
       "      <td>1880.890746</td>\n",
       "    </tr>\n",
       "    <tr>\n",
       "      <th>min</th>\n",
       "      <td>10.000000</td>\n",
       "      <td>3000.000000</td>\n",
       "      <td>200.000000</td>\n",
       "    </tr>\n",
       "    <tr>\n",
       "      <th>25%</th>\n",
       "      <td>11.250000</td>\n",
       "      <td>3875.000000</td>\n",
       "      <td>362.500000</td>\n",
       "    </tr>\n",
       "    <tr>\n",
       "      <th>50%</th>\n",
       "      <td>12.500000</td>\n",
       "      <td>7500.000000</td>\n",
       "      <td>450.000000</td>\n",
       "    </tr>\n",
       "    <tr>\n",
       "      <th>75%</th>\n",
       "      <td>13.750000</td>\n",
       "      <td>11500.000000</td>\n",
       "      <td>3125.000000</td>\n",
       "    </tr>\n",
       "    <tr>\n",
       "      <th>max</th>\n",
       "      <td>15.000000</td>\n",
       "      <td>15000.000000</td>\n",
       "      <td>4000.000000</td>\n",
       "    </tr>\n",
       "  </tbody>\n",
       "</table>\n",
       "</div>"
      ],
      "text/plain": [
       "        sales_ID  selling_price       profit\n",
       "count   6.000000       6.000000     6.000000\n",
       "mean   12.500000    8083.333333  1575.000000\n",
       "std     1.870829    4964.037335  1880.890746\n",
       "min    10.000000    3000.000000   200.000000\n",
       "25%    11.250000    3875.000000   362.500000\n",
       "50%    12.500000    7500.000000   450.000000\n",
       "75%    13.750000   11500.000000  3125.000000\n",
       "max    15.000000   15000.000000  4000.000000"
      ]
     },
     "execution_count": 9,
     "metadata": {},
     "output_type": "execute_result"
    }
   ],
   "source": [
    "sales_data.describe()"
   ]
  },
  {
   "cell_type": "markdown",
   "id": "938367f9-d068-4b6a-925a-26d29e53f2fa",
   "metadata": {},
   "source": [
    "### Data of sales where the profit is above 1000"
   ]
  },
  {
   "cell_type": "code",
   "execution_count": 10,
   "id": "43755d7b-2fd1-4151-be41-604430a2ceec",
   "metadata": {},
   "outputs": [
    {
     "data": {
      "text/html": [
       "<div>\n",
       "<style scoped>\n",
       "    .dataframe tbody tr th:only-of-type {\n",
       "        vertical-align: middle;\n",
       "    }\n",
       "\n",
       "    .dataframe tbody tr th {\n",
       "        vertical-align: top;\n",
       "    }\n",
       "\n",
       "    .dataframe thead th {\n",
       "        text-align: right;\n",
       "    }\n",
       "</style>\n",
       "<table border=\"1\" class=\"dataframe\">\n",
       "  <thead>\n",
       "    <tr style=\"text-align: right;\">\n",
       "      <th></th>\n",
       "      <th>sales_ID</th>\n",
       "      <th>product</th>\n",
       "      <th>location</th>\n",
       "      <th>selling_price</th>\n",
       "      <th>profit</th>\n",
       "    </tr>\n",
       "  </thead>\n",
       "  <tbody>\n",
       "    <tr>\n",
       "      <th>3</th>\n",
       "      <td>13</td>\n",
       "      <td>furniture</td>\n",
       "      <td>mumbai</td>\n",
       "      <td>12000</td>\n",
       "      <td>4000</td>\n",
       "    </tr>\n",
       "    <tr>\n",
       "      <th>4</th>\n",
       "      <td>14</td>\n",
       "      <td>electronics</td>\n",
       "      <td>mumbai</td>\n",
       "      <td>10000</td>\n",
       "      <td>4000</td>\n",
       "    </tr>\n",
       "  </tbody>\n",
       "</table>\n",
       "</div>"
      ],
      "text/plain": [
       "   sales_ID      product location  selling_price  profit\n",
       "3        13    furniture   mumbai          12000    4000\n",
       "4        14  electronics   mumbai          10000    4000"
      ]
     },
     "execution_count": 10,
     "metadata": {},
     "output_type": "execute_result"
    }
   ],
   "source": [
    "sales_data[sales_data[\"profit\"]>1000]"
   ]
  },
  {
   "cell_type": "markdown",
   "id": "b7523d01-a68c-41d3-8f5a-53151cac8920",
   "metadata": {},
   "source": [
    "### Sorting the data according to selling_price"
   ]
  },
  {
   "cell_type": "code",
   "execution_count": 11,
   "id": "b9e2269d-b471-4670-ab39-c1c5ea0df4a2",
   "metadata": {},
   "outputs": [
    {
     "data": {
      "text/html": [
       "<div>\n",
       "<style scoped>\n",
       "    .dataframe tbody tr th:only-of-type {\n",
       "        vertical-align: middle;\n",
       "    }\n",
       "\n",
       "    .dataframe tbody tr th {\n",
       "        vertical-align: top;\n",
       "    }\n",
       "\n",
       "    .dataframe thead th {\n",
       "        text-align: right;\n",
       "    }\n",
       "</style>\n",
       "<table border=\"1\" class=\"dataframe\">\n",
       "  <thead>\n",
       "    <tr style=\"text-align: right;\">\n",
       "      <th></th>\n",
       "      <th>sales_ID</th>\n",
       "      <th>product</th>\n",
       "      <th>location</th>\n",
       "      <th>selling_price</th>\n",
       "      <th>profit</th>\n",
       "    </tr>\n",
       "  </thead>\n",
       "  <tbody>\n",
       "    <tr>\n",
       "      <th>1</th>\n",
       "      <td>11</td>\n",
       "      <td>electronics</td>\n",
       "      <td>mysore</td>\n",
       "      <td>15000</td>\n",
       "      <td>400</td>\n",
       "    </tr>\n",
       "    <tr>\n",
       "      <th>3</th>\n",
       "      <td>13</td>\n",
       "      <td>furniture</td>\n",
       "      <td>mumbai</td>\n",
       "      <td>12000</td>\n",
       "      <td>4000</td>\n",
       "    </tr>\n",
       "    <tr>\n",
       "      <th>4</th>\n",
       "      <td>14</td>\n",
       "      <td>electronics</td>\n",
       "      <td>mumbai</td>\n",
       "      <td>10000</td>\n",
       "      <td>4000</td>\n",
       "    </tr>\n",
       "    <tr>\n",
       "      <th>0</th>\n",
       "      <td>10</td>\n",
       "      <td>furniture</td>\n",
       "      <td>bengaluru</td>\n",
       "      <td>5000</td>\n",
       "      <td>500</td>\n",
       "    </tr>\n",
       "    <tr>\n",
       "      <th>2</th>\n",
       "      <td>12</td>\n",
       "      <td>decor_material</td>\n",
       "      <td>bengaluru</td>\n",
       "      <td>3500</td>\n",
       "      <td>200</td>\n",
       "    </tr>\n",
       "    <tr>\n",
       "      <th>5</th>\n",
       "      <td>15</td>\n",
       "      <td>decor_material</td>\n",
       "      <td>mysore</td>\n",
       "      <td>3000</td>\n",
       "      <td>350</td>\n",
       "    </tr>\n",
       "  </tbody>\n",
       "</table>\n",
       "</div>"
      ],
      "text/plain": [
       "   sales_ID         product   location  selling_price  profit\n",
       "1        11     electronics     mysore          15000     400\n",
       "3        13       furniture     mumbai          12000    4000\n",
       "4        14     electronics     mumbai          10000    4000\n",
       "0        10       furniture  bengaluru           5000     500\n",
       "2        12  decor_material  bengaluru           3500     200\n",
       "5        15  decor_material     mysore           3000     350"
      ]
     },
     "execution_count": 11,
     "metadata": {},
     "output_type": "execute_result"
    }
   ],
   "source": [
    "sales_data.sort_values(by=\"selling_price\",ascending = False)"
   ]
  },
  {
   "cell_type": "markdown",
   "id": "802aaba9-d444-4096-a7da-d9e134f3906a",
   "metadata": {},
   "source": [
    "### Getting the aggrigation of selling_price and profit"
   ]
  },
  {
   "cell_type": "code",
   "execution_count": 12,
   "id": "1d661e0f-91ac-4d63-b7f3-b111976d96c0",
   "metadata": {},
   "outputs": [
    {
     "data": {
      "text/html": [
       "<div>\n",
       "<style scoped>\n",
       "    .dataframe tbody tr th:only-of-type {\n",
       "        vertical-align: middle;\n",
       "    }\n",
       "\n",
       "    .dataframe tbody tr th {\n",
       "        vertical-align: top;\n",
       "    }\n",
       "\n",
       "    .dataframe thead tr th {\n",
       "        text-align: left;\n",
       "    }\n",
       "\n",
       "    .dataframe thead tr:last-of-type th {\n",
       "        text-align: right;\n",
       "    }\n",
       "</style>\n",
       "<table border=\"1\" class=\"dataframe\">\n",
       "  <thead>\n",
       "    <tr>\n",
       "      <th></th>\n",
       "      <th colspan=\"3\" halign=\"left\">profit</th>\n",
       "      <th colspan=\"3\" halign=\"left\">selling_price</th>\n",
       "    </tr>\n",
       "    <tr>\n",
       "      <th></th>\n",
       "      <th>sum</th>\n",
       "      <th>mean</th>\n",
       "      <th>max</th>\n",
       "      <th>sum</th>\n",
       "      <th>mean</th>\n",
       "      <th>max</th>\n",
       "    </tr>\n",
       "    <tr>\n",
       "      <th>location</th>\n",
       "      <th></th>\n",
       "      <th></th>\n",
       "      <th></th>\n",
       "      <th></th>\n",
       "      <th></th>\n",
       "      <th></th>\n",
       "    </tr>\n",
       "  </thead>\n",
       "  <tbody>\n",
       "    <tr>\n",
       "      <th>bengaluru</th>\n",
       "      <td>700</td>\n",
       "      <td>350.0</td>\n",
       "      <td>500</td>\n",
       "      <td>8500</td>\n",
       "      <td>4250.0</td>\n",
       "      <td>5000</td>\n",
       "    </tr>\n",
       "    <tr>\n",
       "      <th>mumbai</th>\n",
       "      <td>8000</td>\n",
       "      <td>4000.0</td>\n",
       "      <td>4000</td>\n",
       "      <td>22000</td>\n",
       "      <td>11000.0</td>\n",
       "      <td>12000</td>\n",
       "    </tr>\n",
       "    <tr>\n",
       "      <th>mysore</th>\n",
       "      <td>750</td>\n",
       "      <td>375.0</td>\n",
       "      <td>400</td>\n",
       "      <td>18000</td>\n",
       "      <td>9000.0</td>\n",
       "      <td>15000</td>\n",
       "    </tr>\n",
       "  </tbody>\n",
       "</table>\n",
       "</div>"
      ],
      "text/plain": [
       "          profit               selling_price                \n",
       "             sum    mean   max           sum     mean    max\n",
       "location                                                    \n",
       "bengaluru    700   350.0   500          8500   4250.0   5000\n",
       "mumbai      8000  4000.0  4000         22000  11000.0  12000\n",
       "mysore       750   375.0   400         18000   9000.0  15000"
      ]
     },
     "execution_count": 12,
     "metadata": {},
     "output_type": "execute_result"
    }
   ],
   "source": [
    "sales_data.groupby(\"location\").agg({\"profit\":[\"sum\",\"mean\",\"max\"],\"selling_price\":[\"sum\",\"mean\",\"max\"]})"
   ]
  },
  {
   "cell_type": "markdown",
   "id": "fbdf2777-9baf-4990-aebe-da31a21d72cd",
   "metadata": {},
   "source": [
    "### Plotting the bar for product vs profit"
   ]
  },
  {
   "cell_type": "code",
   "execution_count": 13,
   "id": "182e0427-3a8d-4ae1-87df-53d72a962d5c",
   "metadata": {},
   "outputs": [
    {
     "data": {
      "image/png": "[encoded data removed]",
      "text/plain": [
       "<Figure size 640x480 with 1 Axes>"
      ]
     },
     "metadata": {},
     "output_type": "display_data"
    }
   ],
   "source": [
    "plt.bar(sales_data[\"product\"],sales_data[\"profit\"])\n",
    "plt.savefig(\"sales_chart.png\")\n",
    "plt.show()"
   ]
  },
  {
   "cell_type": "markdown",
   "id": "ce43676e-db77-4029-8999-b96cb4a4baaa",
   "metadata": {},
   "source": [
    "### Directly loading data of a particular location"
   ]
  },
  {
   "cell_type": "code",
   "execution_count": 14,
   "id": "bccd1d1d-c07f-442c-8245-7a665457e420",
   "metadata": {},
   "outputs": [
    {
     "name": "stdout",
     "output_type": "stream",
     "text": [
      "   sales_ID         product   location  selling_price  profit\n",
      "0        10       furniture  bengaluru           5000     500\n",
      "1        12  decor_material  bengaluru           3500     200\n"
     ]
    }
   ],
   "source": [
    "sales_blore=\"select * from sales where location = 'bengaluru';\"\n",
    "sales_blore= pd.read_sql_query(sales_blore , con)\n",
    "print(sales_blore)"
   ]
  },
  {
   "cell_type": "code",
   "execution_count": 15,
   "id": "971da36f-6b3f-4ae2-b45c-3948b5531f9d",
   "metadata": {},
   "outputs": [
    {
     "name": "stdout",
     "output_type": "stream",
     "text": [
      "<class 'pandas.core.frame.DataFrame'>\n",
      "RangeIndex: 6 entries, 0 to 5\n",
      "Data columns (total 5 columns):\n",
      " #   Column         Non-Null Count  Dtype \n",
      "---  ------         --------------  ----- \n",
      " 0   sales_ID       6 non-null      int64 \n",
      " 1   product        6 non-null      object\n",
      " 2   location       6 non-null      object\n",
      " 3   selling_price  6 non-null      int64 \n",
      " 4   profit         6 non-null      int64 \n",
      "dtypes: int64(3), object(2)\n",
      "memory usage: 372.0+ bytes\n"
     ]
    }
   ],
   "source": [
    "sales_data.info()"
   ]
  },
  {
   "cell_type": "code",
   "execution_count": null,
   "id": "1a0d3831-6d13-47cb-9056-9257d6e446c6",
   "metadata": {},
   "outputs": [],
   "source": [
    "\n"
   ]
  },
  {
   "cell_type": "code",
   "execution_count": null,
   "id": "0b1193f3-ab0e-4a31-86d9-4ac289985744",
   "metadata": {},
   "outputs": [],
   "source": []
  }
 ],
 "metadata": {
  "kernelspec": {
   "display_name": "Python 3 (ipykernel)",
   "language": "python",
   "name": "python3"
  },
  "language_info": {
   "codemirror_mode": {
    "name": "ipython",
    "version": 3
   },
   "file_extension": ".py",
   "mimetype": "text/x-python",
   "name": "python",
   "nbconvert_exporter": "python",
   "pygments_lexer": "ipython3",
   "version": "3.12.4"
  }
 },
 "nbformat": 4,
 "nbformat_minor": 5
}
